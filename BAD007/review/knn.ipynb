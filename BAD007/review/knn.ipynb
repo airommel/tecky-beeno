{
 "cells": [
  {
   "cell_type": "code",
   "execution_count": 3,
   "metadata": {},
   "outputs": [],
   "source": [
    "import numpy as np\n",
    "from scipy.stats  import mode\n",
    "from sklearn.datasets import load_iris\n",
    "from sklearn.model_selection import train_test_split\n",
    "from sklearn.metrics import classification_report"
   ]
  },
  {
   "cell_type": "code",
   "execution_count": 4,
   "metadata": {},
   "outputs": [
    {
     "data": {
      "text/plain": [
       "array([1, 2, 3, 4])"
      ]
     },
     "execution_count": 4,
     "metadata": {},
     "output_type": "execute_result"
    }
   ],
   "source": [
    "position = np.array([1,2,3,4])\n",
    "position"
   ]
  },
  {
   "cell_type": "code",
   "execution_count": 5,
   "metadata": {},
   "outputs": [
    {
     "data": {
      "text/plain": [
       "array([[0.03956499, 0.60981565, 0.50763556, 0.09252702],\n",
       "       [0.82686788, 0.71201482, 0.16127385, 0.73054302],\n",
       "       [0.66111815, 0.97255718, 0.50471128, 0.73738504],\n",
       "       [0.13782999, 0.80941039, 0.55308682, 0.24358353],\n",
       "       [0.73932304, 0.98936534, 0.46430647, 0.05299249],\n",
       "       [0.97988125, 0.08100564, 0.362813  , 0.56797937],\n",
       "       [0.69038864, 0.25658101, 0.11349996, 0.55270494],\n",
       "       [0.46760021, 0.22508189, 0.67063958, 0.76632269],\n",
       "       [0.60531058, 0.54503436, 0.22955706, 0.87269645],\n",
       "       [0.27801069, 0.75214271, 0.92275479, 0.50779774],\n",
       "       [0.60964876, 0.2743879 , 0.90343011, 0.11101743],\n",
       "       [0.9609489 , 0.65609555, 0.32147454, 0.39386836],\n",
       "       [0.71235878, 0.68993535, 0.60797491, 0.44798917],\n",
       "       [0.89018802, 0.21021439, 0.42639554, 0.79148565],\n",
       "       [0.93079506, 0.01595825, 0.165827  , 0.21681058],\n",
       "       [0.32997675, 0.7698629 , 0.3796635 , 0.25725749],\n",
       "       [0.0639097 , 0.36677015, 0.92259229, 0.75204756],\n",
       "       [0.90339302, 0.64777156, 0.40540327, 0.27038335],\n",
       "       [0.91261893, 0.03500815, 0.97334301, 0.30072839],\n",
       "       [0.14587068, 0.58033865, 0.73166123, 0.28999651],\n",
       "       [0.09723571, 0.35160313, 0.36317529, 0.26488526],\n",
       "       [0.62816962, 0.002442  , 0.76036158, 0.54056457],\n",
       "       [0.50868214, 0.62528911, 0.12032372, 0.96836337],\n",
       "       [0.72748765, 0.12730775, 0.75729866, 0.1732701 ],\n",
       "       [0.12114889, 0.22536575, 0.22361769, 0.45857592]])"
      ]
     },
     "execution_count": 5,
     "metadata": {},
     "output_type": "execute_result"
    }
   ],
   "source": [
    "sample = np.random.random(100).reshape(25,4)\n",
    "# sample = np.array(range(100)).reshape(25,4).reshape(5,5,4)\n",
    "# .reshape(6,2,3)\n",
    "sample"
   ]
  },
  {
   "cell_type": "code",
   "execution_count": 6,
   "metadata": {},
   "outputs": [
    {
     "data": {
      "text/plain": [
       "array([[0.03956499, 0.60981565, 0.50763556, 0.09252702],\n",
       "       [0.82686788, 0.71201482, 0.16127385, 0.73054302],\n",
       "       [0.66111815, 0.97255718, 0.50471128, 0.73738504],\n",
       "       [0.13782999, 0.80941039, 0.55308682, 0.24358353],\n",
       "       [0.73932304, 0.98936534, 0.46430647, 0.05299249],\n",
       "       [0.97988125, 0.08100564, 0.362813  , 0.56797937],\n",
       "       [0.69038864, 0.25658101, 0.11349996, 0.55270494],\n",
       "       [0.46760021, 0.22508189, 0.67063958, 0.76632269],\n",
       "       [0.60531058, 0.54503436, 0.22955706, 0.87269645],\n",
       "       [0.27801069, 0.75214271, 0.92275479, 0.50779774],\n",
       "       [0.60964876, 0.2743879 , 0.90343011, 0.11101743],\n",
       "       [0.9609489 , 0.65609555, 0.32147454, 0.39386836],\n",
       "       [0.71235878, 0.68993535, 0.60797491, 0.44798917],\n",
       "       [0.89018802, 0.21021439, 0.42639554, 0.79148565],\n",
       "       [0.93079506, 0.01595825, 0.165827  , 0.21681058],\n",
       "       [0.32997675, 0.7698629 , 0.3796635 , 0.25725749],\n",
       "       [0.0639097 , 0.36677015, 0.92259229, 0.75204756],\n",
       "       [0.90339302, 0.64777156, 0.40540327, 0.27038335],\n",
       "       [0.91261893, 0.03500815, 0.97334301, 0.30072839],\n",
       "       [0.14587068, 0.58033865, 0.73166123, 0.28999651],\n",
       "       [0.09723571, 0.35160313, 0.36317529, 0.26488526],\n",
       "       [0.62816962, 0.002442  , 0.76036158, 0.54056457],\n",
       "       [0.50868214, 0.62528911, 0.12032372, 0.96836337],\n",
       "       [0.72748765, 0.12730775, 0.75729866, 0.1732701 ],\n",
       "       [0.12114889, 0.22536575, 0.22361769, 0.45857592]])"
      ]
     },
     "execution_count": 6,
     "metadata": {},
     "output_type": "execute_result"
    }
   ],
   "source": [
    "sample"
   ]
  },
  {
   "cell_type": "code",
   "execution_count": 7,
   "metadata": {},
   "outputs": [
    {
     "data": {
      "text/plain": [
       "array([[-0.96043501, -1.39018435, -2.49236444, -3.90747298],\n",
       "       [-0.17313212, -1.28798518, -2.83872615, -3.26945698],\n",
       "       [-0.33888185, -1.02744282, -2.49528872, -3.26261496],\n",
       "       [-0.86217001, -1.19058961, -2.44691318, -3.75641647],\n",
       "       [-0.26067696, -1.01063466, -2.53569353, -3.94700751],\n",
       "       [-0.02011875, -1.91899436, -2.637187  , -3.43202063],\n",
       "       [-0.30961136, -1.74341899, -2.88650004, -3.44729506],\n",
       "       [-0.53239979, -1.77491811, -2.32936042, -3.23367731],\n",
       "       [-0.39468942, -1.45496564, -2.77044294, -3.12730355],\n",
       "       [-0.72198931, -1.24785729, -2.07724521, -3.49220226],\n",
       "       [-0.39035124, -1.7256121 , -2.09656989, -3.88898257],\n",
       "       [-0.0390511 , -1.34390445, -2.67852546, -3.60613164],\n",
       "       [-0.28764122, -1.31006465, -2.39202509, -3.55201083],\n",
       "       [-0.10981198, -1.78978561, -2.57360446, -3.20851435],\n",
       "       [-0.06920494, -1.98404175, -2.834173  , -3.78318942],\n",
       "       [-0.67002325, -1.2301371 , -2.6203365 , -3.74274251],\n",
       "       [-0.9360903 , -1.63322985, -2.07740771, -3.24795244],\n",
       "       [-0.09660698, -1.35222844, -2.59459673, -3.72961665],\n",
       "       [-0.08738107, -1.96499185, -2.02665699, -3.69927161],\n",
       "       [-0.85412932, -1.41966135, -2.26833877, -3.71000349],\n",
       "       [-0.90276429, -1.64839687, -2.63682471, -3.73511474],\n",
       "       [-0.37183038, -1.997558  , -2.23963842, -3.45943543],\n",
       "       [-0.49131786, -1.37471089, -2.87967628, -3.03163663],\n",
       "       [-0.27251235, -1.87269225, -2.24270134, -3.8267299 ],\n",
       "       [-0.87885111, -1.77463425, -2.77638231, -3.54142408]])"
      ]
     },
     "execution_count": 7,
     "metadata": {},
     "output_type": "execute_result"
    }
   ],
   "source": [
    "diff = sample - position\n",
    "diff\n",
    "\n",
    "# sample.__minus__(position)"
   ]
  },
  {
   "cell_type": "code",
   "execution_count": 8,
   "metadata": {},
   "outputs": [],
   "source": [
    "a2 = diff[:,0] ** 2\n",
    "b2 = diff[:,1] ** 2\n",
    "c2 = diff[:,2] ** 2\n",
    "d2 = diff[:,3] ** 2\n",
    "\n",
    "# 3 ** 2"
   ]
  },
  {
   "cell_type": "code",
   "execution_count": 9,
   "metadata": {},
   "outputs": [
    {
     "data": {
      "text/plain": [
       "array([9.22435412e-01, 2.99747297e-02, 1.14840909e-01, 7.43337121e-01,\n",
       "       6.79524756e-02, 4.04764232e-04, 9.58591923e-02, 2.83449534e-01,\n",
       "       1.55779740e-01, 5.21268567e-01, 1.52374089e-01, 1.52498841e-03,\n",
       "       8.27374717e-02, 1.20586706e-02, 4.78932399e-03, 4.48931150e-01,\n",
       "       8.76265054e-01, 9.33290895e-03, 7.63545132e-03, 7.29536888e-01,\n",
       "       8.14983362e-01, 1.38257830e-01, 2.41393237e-01, 7.42629833e-02,\n",
       "       7.72379272e-01])"
      ]
     },
     "execution_count": 9,
     "metadata": {},
     "output_type": "execute_result"
    }
   ],
   "source": [
    "a2"
   ]
  },
  {
   "cell_type": "code",
   "execution_count": 10,
   "metadata": {},
   "outputs": [
    {
     "data": {
      "text/plain": [
       "array([24.33527351, 20.43659562, 18.04160181, 22.25888954, 23.09794485,\n",
       "       22.41646502, 23.35109467, 19.31637269, 19.72808629, 18.5888407 ,\n",
       "       22.64990195, 21.9862882 , 20.13757183, 20.13339545, 26.2862698 ,\n",
       "       22.83645331, 18.40852261, 22.47982722, 21.66077746, 21.65446192,\n",
       "       24.43612223, 21.11216952, 19.61457944, 23.25481025, 24.17168921])"
      ]
     },
     "execution_count": 10,
     "metadata": {},
     "output_type": "execute_result"
    }
   ],
   "source": [
    "\n",
    "dist2 = a2 + b2 + c2 + d2\n",
    "dist2"
   ]
  },
  {
   "cell_type": "code",
   "execution_count": 11,
   "metadata": {},
   "outputs": [
    {
     "data": {
      "text/plain": [
       "array([4.93307952, 4.5206853 , 4.24754068, 4.71793276, 4.80603213,\n",
       "       4.73460294, 4.83229704, 4.39503955, 4.44163104, 4.31147779,\n",
       "       4.75919131, 4.68895385, 4.48749059, 4.48702523, 5.12701373,\n",
       "       4.77875018, 4.29051542, 4.74128962, 4.65411404, 4.6534355 ,\n",
       "       4.94329063, 4.59479809, 4.428835  , 4.82232415, 4.91647122])"
      ]
     },
     "execution_count": 11,
     "metadata": {},
     "output_type": "execute_result"
    }
   ],
   "source": [
    "3 ** 2\n",
    "9 ** 0.5\n",
    "\n",
    "dist = dist2 ** 0.5\n",
    "dist"
   ]
  },
  {
   "cell_type": "code",
   "execution_count": 12,
   "metadata": {},
   "outputs": [
    {
     "data": {
      "text/plain": [
       "[(0, 4.933079516063845),\n",
       " (1, 4.5206853042926465),\n",
       " (2, 4.247540678331727),\n",
       " (3, 4.717932760911008),\n",
       " (4, 4.806032131314014),\n",
       " (5, 4.7346029418827),\n",
       " (6, 4.832297038414309),\n",
       " (7, 4.395039554976312),\n",
       " (8, 4.441631039858419),\n",
       " (9, 4.311477785929604),\n",
       " (10, 4.759191312283856),\n",
       " (11, 4.688953849494283),\n",
       " (12, 4.487490593348617),\n",
       " (13, 4.487025233936367),\n",
       " (14, 5.127013731312913),\n",
       " (15, 4.778750182944383),\n",
       " (16, 4.290515424932984),\n",
       " (17, 4.741289615359185),\n",
       " (18, 4.6541140358814),\n",
       " (19, 4.653435496353535),\n",
       " (20, 4.9432906281448705),\n",
       " (21, 4.594798093497448),\n",
       " (22, 4.428834997920337),\n",
       " (23, 4.822324154875645),\n",
       " (24, 4.9164712154773085)]"
      ]
     },
     "execution_count": 12,
     "metadata": {},
     "output_type": "execute_result"
    }
   ],
   "source": [
    "n = len(dist)\n",
    "index = (range(n))\n",
    "dist_with_index = list(zip(index, dist))\n",
    "dist_with_index"
   ]
  },
  {
   "cell_type": "code",
   "execution_count": 13,
   "metadata": {},
   "outputs": [
    {
     "data": {
      "text/plain": [
       "[(2, 4.247540678331727),\n",
       " (16, 4.290515424932984),\n",
       " (9, 4.311477785929604),\n",
       " (7, 4.395039554976312),\n",
       " (22, 4.428834997920337),\n",
       " (8, 4.441631039858419),\n",
       " (13, 4.487025233936367),\n",
       " (12, 4.487490593348617),\n",
       " (1, 4.5206853042926465),\n",
       " (21, 4.594798093497448),\n",
       " (19, 4.653435496353535),\n",
       " (18, 4.6541140358814),\n",
       " (11, 4.688953849494283),\n",
       " (3, 4.717932760911008),\n",
       " (5, 4.7346029418827),\n",
       " (17, 4.741289615359185),\n",
       " (10, 4.759191312283856),\n",
       " (15, 4.778750182944383),\n",
       " (4, 4.806032131314014),\n",
       " (23, 4.822324154875645),\n",
       " (6, 4.832297038414309),\n",
       " (24, 4.9164712154773085),\n",
       " (0, 4.933079516063845),\n",
       " (20, 4.9432906281448705),\n",
       " (14, 5.127013731312913)]"
      ]
     },
     "execution_count": 13,
     "metadata": {},
     "output_type": "execute_result"
    }
   ],
   "source": [
    "# sorted(dist_with_index,key=lambda x: x[1])\n",
    "# dist_with_index[0][1]\n",
    "\n",
    "def sort_key(x):\n",
    "\treturn x[1]\n",
    "\n",
    "sorted_dist_with_index = sorted(dist_with_index,key=sort_key)\n",
    "sorted_dist_with_index"
   ]
  },
  {
   "cell_type": "code",
   "execution_count": 14,
   "metadata": {},
   "outputs": [],
   "source": [
    "k = 3\n",
    "sorted_dist_with_index[-3:] # farest k sample\n",
    "sorted_dist_with_index[0:3] # closest k sample\n",
    "top_k_pairs = sorted_dist_with_index[0:3]"
   ]
  },
  {
   "cell_type": "code",
   "execution_count": 15,
   "metadata": {},
   "outputs": [
    {
     "data": {
      "text/plain": [
       "[2, 16, 9]"
      ]
     },
     "execution_count": 15,
     "metadata": {},
     "output_type": "execute_result"
    }
   ],
   "source": [
    "[(x,x+10) for x in range(0, 10)]\n",
    "\n",
    "[(x,y,z) for x in range(3) for y in range(3) for z in range(3)]\n",
    "\n",
    "top_k_indices = [t[0] for t in top_k_pairs]\n",
    "top_k_indices"
   ]
  },
  {
   "cell_type": "code",
   "execution_count": 16,
   "metadata": {},
   "outputs": [
    {
     "name": "stdout",
     "output_type": "stream",
     "text": [
      "(120, 4)\n",
      "(30, 4)\n",
      "(120,)\n",
      "(30,)\n"
     ]
    }
   ],
   "source": [
    "class KNNClassifier:\n",
    "\n",
    "    def __init__(self, X_train, y_train, k_neighbors = 3):\n",
    "        self.k_neighbors = k_neighbors\n",
    "        self._X_train = X_train\n",
    "        self._y_train = y_train\n",
    "        self._y_set = set(y_train)\n",
    "\n",
    "    \"\"\"calculate the euclidean distance here\"\"\"\n",
    "    def euclidean_dist(self, point_1, point_2):\n",
    "        n = point_1.shape[0]\n",
    "        # dist2 = np.array([0 for x in range(n)]) # we are not calculating in batch, hence should a single zero\n",
    "        dist2 = 0\n",
    "        for i in range(n):\n",
    "            a = point_1[i] - point_2[i]\n",
    "            a2 = a ** 2\n",
    "            dist2 = dist2 + a2\n",
    "        dist = dist2 ** 0.5\n",
    "        return dist\n",
    "\n",
    "    \"\"\"accept multiple inputs here and predict one by one with predict_single()\"\"\"\n",
    "    def predict(self, X_test_array):\n",
    "        return [ self.predict_single(X_test) for X_test in X_test_array ]\n",
    "\n",
    "    \"\"\"predict single input here\"\"\"\n",
    "    def predict_single(self, input_data_single):\n",
    "        all_dist = [\n",
    "            self.euclidean_dist(X_train_single, input_data_single) for\n",
    "              X_train_single in self._X_train\n",
    "        ]\n",
    "        n = self._X_train.shape[0]\n",
    "        index = range(n)\n",
    "        all_dist_with_index = zip(index, all_dist)\n",
    "        k = self.k_neighbors\n",
    "        top_k_y = [\n",
    "            self.get_y(t[0])\n",
    "            for t in sorted(all_dist_with_index,key=lambda x: x[1])[0:k]\n",
    "        ]\n",
    "\n",
    "        pred = sorted([(y,top_k_y.count(y)) for y in self._y_set],key=lambda x: x[1])[-1][0]\n",
    "\n",
    "        return pred\n",
    "    \n",
    "    def get_y(self, index_train):\n",
    "        return self._y_train[index_train]\n",
    "\n",
    "\n",
    "iris = load_iris()\n",
    "X = iris.data\n",
    "y = iris.target\n",
    "\n",
    "X_train, X_test, y_train, y_test = train_test_split(X, y, test_size=0.2, random_state=42)\n",
    "\n",
    "print(X_train.shape)    # (120, 4)\n",
    "print(X_test.shape)     # (30, 4)\n",
    "print(y_train.shape)    # (120,)\n",
    "print(y_test.shape)     # (30,)\n"
   ]
  },
  {
   "cell_type": "code",
   "execution_count": 17,
   "metadata": {},
   "outputs": [
    {
     "data": {
      "text/plain": [
       "4"
      ]
     },
     "execution_count": 17,
     "metadata": {},
     "output_type": "execute_result"
    }
   ],
   "source": [
    "len([x for x in [1,2,3,2,1,2,2,3,3,1,2,3] if x == 2])\n",
    "[1,2,3,2,1,2,2,3,3].count(2)"
   ]
  },
  {
   "cell_type": "code",
   "execution_count": 18,
   "metadata": {},
   "outputs": [
    {
     "data": {
      "text/plain": [
       "{0, 1, 2}"
      ]
     },
     "execution_count": 18,
     "metadata": {},
     "output_type": "execute_result"
    }
   ],
   "source": [
    "X_train.shape[1]\n",
    "n = X_train[0].shape[0]\n",
    "np.array([0 for x in range(n)])\n",
    "X_train[:,0]\n",
    "\n",
    "set(y_train)"
   ]
  },
  {
   "cell_type": "code",
   "execution_count": 19,
   "metadata": {},
   "outputs": [
    {
     "data": {
      "text/plain": [
       "[1,\n",
       " 0,\n",
       " 2,\n",
       " 1,\n",
       " 1,\n",
       " 0,\n",
       " 1,\n",
       " 2,\n",
       " 1,\n",
       " 1,\n",
       " 2,\n",
       " 0,\n",
       " 0,\n",
       " 0,\n",
       " 0,\n",
       " 1,\n",
       " 2,\n",
       " 1,\n",
       " 1,\n",
       " 2,\n",
       " 0,\n",
       " 2,\n",
       " 0,\n",
       " 2,\n",
       " 2,\n",
       " 2,\n",
       " 2,\n",
       " 2,\n",
       " 0,\n",
       " 0]"
      ]
     },
     "execution_count": 19,
     "metadata": {},
     "output_type": "execute_result"
    }
   ],
   "source": [
    "\n",
    "iris_knn_classifier = KNNClassifier(X_train, y_train)\n",
    "y_pred = iris_knn_classifier.predict(X_test)\n",
    "y_pred\n",
    "\n",
    "# X_train\n",
    "# y_train\n",
    "# X_test"
   ]
  },
  {
   "cell_type": "code",
   "execution_count": 20,
   "metadata": {},
   "outputs": [
    {
     "name": "stdout",
     "output_type": "stream",
     "text": [
      "                  precision    recall  f1-score   support\n",
      "\n",
      "     Iris-Setosa       1.00      1.00      1.00        10\n",
      "Iris-Versicolour       1.00      1.00      1.00         9\n",
      "  Iris-Virginica       1.00      1.00      1.00        11\n",
      "\n",
      "        accuracy                           1.00        30\n",
      "       macro avg       1.00      1.00      1.00        30\n",
      "    weighted avg       1.00      1.00      1.00        30\n",
      "\n"
     ]
    }
   ],
   "source": [
    "\n",
    "print(classification_report(y_test, y_pred, target_names=[\n",
    "      'Iris-Setosa', 'Iris-Versicolour', 'Iris-Virginica']))"
   ]
  },
  {
   "cell_type": "code",
   "execution_count": 22,
   "metadata": {},
   "outputs": [
    {
     "data": {
      "text/plain": [
       "Text(0.5, 1.0, 'Distribution of Test Data')"
      ]
     },
     "execution_count": 22,
     "metadata": {},
     "output_type": "execute_result"
    },
    {
     "data": {
      "image/png": "[encoded data removed]",
      "text/plain": [
       "<Figure size 432x288 with 1 Axes>"
      ]
     },
     "metadata": {
      "needs_background": "light"
     },
     "output_type": "display_data"
    }
   ],
   "source": [
    "import matplotlib.pyplot as plt\n",
    "\n",
    "test_petal_length = X_test[:,2]\n",
    "test_petal_width = X_test[:,3]\n",
    "\n",
    "plt.scatter(test_petal_length, test_petal_width, c=y_test)\n",
    "plt.title(\"Distribution of Test Data\")"
   ]
  },
  {
   "cell_type": "code",
   "execution_count": 23,
   "metadata": {},
   "outputs": [
    {
     "data": {
      "text/plain": [
       "<matplotlib.collections.PathCollection at 0x7f78f5b6f070>"
      ]
     },
     "execution_count": 23,
     "metadata": {},
     "output_type": "execute_result"
    },
    {
     "data": {
      "image/png": "[encoded data removed]",
      "text/plain": [
       "<Figure size 432x288 with 1 Axes>"
      ]
     },
     "metadata": {
      "needs_background": "light"
     },
     "output_type": "display_data"
    }
   ],
   "source": [
    "plt.scatter(X_train[:,2],X_train[:,3],c=y_train)"
   ]
  }
 ],
 "metadata": {
  "interpreter": {
   "hash": "7268a57e3ae465bdcb5e7aceca413bf74d45c21aa72404521e304ae617103307"
  },
  "kernelspec": {
   "display_name": "Python 3.10.1 64-bit ('.venv': venv)",
   "language": "python",
   "name": "python3"
  },
  "language_info": {
   "codemirror_mode": {
    "name": "ipython",
    "version": 3
   },
   "file_extension": ".py",
   "mimetype": "text/x-python",
   "name": "python",
   "nbconvert_exporter": "python",
   "pygments_lexer": "ipython3",
   "version": "3.10.1"
  },
  "orig_nbformat": 4
 },
 "nbformat": 4,
 "nbformat_minor": 2
}
